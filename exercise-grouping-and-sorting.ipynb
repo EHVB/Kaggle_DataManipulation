{
 "cells": [
  {
   "cell_type": "markdown",
   "id": "30c6deec",
   "metadata": {
    "papermill": {
     "duration": 0.007009,
     "end_time": "2022-08-15T15:13:00.395515",
     "exception": false,
     "start_time": "2022-08-15T15:13:00.388506",
     "status": "completed"
    },
    "tags": []
   },
   "source": [
    "**This notebook is an exercise in the [Pandas](https://www.kaggle.com/learn/pandas) course.  You can reference the tutorial at [this link](https://www.kaggle.com/residentmario/grouping-and-sorting).**\n",
    "\n",
    "---\n"
   ]
  },
  {
   "cell_type": "markdown",
   "id": "07425be1",
   "metadata": {
    "papermill": {
     "duration": 0.005645,
     "end_time": "2022-08-15T15:13:00.407164",
     "exception": false,
     "start_time": "2022-08-15T15:13:00.401519",
     "status": "completed"
    },
    "tags": []
   },
   "source": [
    "# Introduction\n",
    "\n",
    "In these exercises we'll apply groupwise analysis to our dataset.\n",
    "\n",
    "Run the code cell below to load the data before running the exercises."
   ]
  },
  {
   "cell_type": "code",
   "execution_count": 1,
   "id": "022cc923",
   "metadata": {
    "execution": {
     "iopub.execute_input": "2022-08-15T15:13:00.420860Z",
     "iopub.status.busy": "2022-08-15T15:13:00.420047Z",
     "iopub.status.idle": "2022-08-15T15:13:03.267352Z",
     "shell.execute_reply": "2022-08-15T15:13:03.266069Z"
    },
    "papermill": {
     "duration": 2.858306,
     "end_time": "2022-08-15T15:13:03.271183",
     "exception": false,
     "start_time": "2022-08-15T15:13:00.412877",
     "status": "completed"
    },
    "tags": []
   },
   "outputs": [
    {
     "name": "stdout",
     "output_type": "stream",
     "text": [
      "Setup complete.\n"
     ]
    }
   ],
   "source": [
    "import pandas as pd\n",
    "\n",
    "reviews = pd.read_csv(\"../input/wine-reviews/winemag-data-130k-v2.csv\", index_col=0)\n",
    "#pd.set_option(\"display.max_rows\", 5)\n",
    "\n",
    "from learntools.core import binder; binder.bind(globals())\n",
    "from learntools.pandas.grouping_and_sorting import *\n",
    "print(\"Setup complete.\")"
   ]
  },
  {
   "cell_type": "markdown",
   "id": "ac816433",
   "metadata": {
    "papermill": {
     "duration": 0.005621,
     "end_time": "2022-08-15T15:13:03.283385",
     "exception": false,
     "start_time": "2022-08-15T15:13:03.277764",
     "status": "completed"
    },
    "tags": []
   },
   "source": [
    "# Exercises"
   ]
  },
  {
   "cell_type": "markdown",
   "id": "c1895905",
   "metadata": {
    "papermill": {
     "duration": 0.005712,
     "end_time": "2022-08-15T15:13:03.295132",
     "exception": false,
     "start_time": "2022-08-15T15:13:03.289420",
     "status": "completed"
    },
    "tags": []
   },
   "source": [
    "## 1.\n",
    "Who are the most common wine reviewers in the dataset? Create a `Series` whose index is the `taster_twitter_handle` category from the dataset, and whose values count how many reviews each person wrote."
   ]
  },
  {
   "cell_type": "code",
   "execution_count": 2,
   "id": "001ef6a2",
   "metadata": {
    "execution": {
     "iopub.execute_input": "2022-08-15T15:13:03.308446Z",
     "iopub.status.busy": "2022-08-15T15:13:03.308051Z",
     "iopub.status.idle": "2022-08-15T15:13:03.336834Z",
     "shell.execute_reply": "2022-08-15T15:13:03.335652Z"
    },
    "papermill": {
     "duration": 0.038281,
     "end_time": "2022-08-15T15:13:03.339262",
     "exception": false,
     "start_time": "2022-08-15T15:13:03.300981",
     "status": "completed"
    },
    "tags": []
   },
   "outputs": [
    {
     "data": {
      "application/javascript": [
       "parent.postMessage({\"jupyterEvent\": \"custom.exercise_interaction\", \"data\": {\"outcomeType\": 1, \"valueTowardsCompletion\": 0.16666666666666666, \"interactionType\": 1, \"questionType\": 1, \"questionId\": \"1_ReviewsWritten\", \"learnToolsVersion\": \"0.3.4\", \"failureMessage\": \"\", \"exceptionClass\": \"\", \"trace\": \"\"}}, \"*\")"
      ],
      "text/plain": [
       "<IPython.core.display.Javascript object>"
      ]
     },
     "metadata": {},
     "output_type": "display_data"
    },
    {
     "data": {
      "text/markdown": [
       "<span style=\"color:#33cc33\">Correct:</span> \n",
       "\n",
       "\n",
       "```python\n",
       "reviews_written = reviews.groupby('taster_twitter_handle').size()\n",
       "```\n",
       "or\n",
       "```python\n",
       "reviews_written = reviews.groupby('taster_twitter_handle').taster_twitter_handle.count()\n",
       "```\n"
      ],
      "text/plain": [
       "Correct: \n",
       "\n",
       "\n",
       "```python\n",
       "reviews_written = reviews.groupby('taster_twitter_handle').size()\n",
       "```\n",
       "or\n",
       "```python\n",
       "reviews_written = reviews.groupby('taster_twitter_handle').taster_twitter_handle.count()\n",
       "```"
      ]
     },
     "metadata": {},
     "output_type": "display_data"
    }
   ],
   "source": [
    "# Your code here\n",
    "reviews_written = reviews.groupby(\"taster_twitter_handle\").taster_name.count()\n",
    "\n",
    "# Check your answer\n",
    "q1.check()"
   ]
  },
  {
   "cell_type": "code",
   "execution_count": 3,
   "id": "75341d25",
   "metadata": {
    "execution": {
     "iopub.execute_input": "2022-08-15T15:13:03.353470Z",
     "iopub.status.busy": "2022-08-15T15:13:03.352839Z",
     "iopub.status.idle": "2022-08-15T15:13:03.356754Z",
     "shell.execute_reply": "2022-08-15T15:13:03.355840Z"
    },
    "papermill": {
     "duration": 0.013622,
     "end_time": "2022-08-15T15:13:03.358992",
     "exception": false,
     "start_time": "2022-08-15T15:13:03.345370",
     "status": "completed"
    },
    "tags": []
   },
   "outputs": [],
   "source": [
    "#q1.hint()\n",
    "#q1.solution()"
   ]
  },
  {
   "cell_type": "markdown",
   "id": "fdd6a09f",
   "metadata": {
    "papermill": {
     "duration": 0.005769,
     "end_time": "2022-08-15T15:13:03.371044",
     "exception": false,
     "start_time": "2022-08-15T15:13:03.365275",
     "status": "completed"
    },
    "tags": []
   },
   "source": [
    "## 2.\n",
    "What is the best wine I can buy for a given amount of money? Create a `Series` whose index is wine prices and whose values is the maximum number of points a wine costing that much was given in a review. Sort the values by price, ascending (so that `4.0` dollars is at the top and `3300.0` dollars is at the bottom)."
   ]
  },
  {
   "cell_type": "code",
   "execution_count": 4,
   "id": "f4c3fbf8",
   "metadata": {
    "execution": {
     "iopub.execute_input": "2022-08-15T15:13:03.384636Z",
     "iopub.status.busy": "2022-08-15T15:13:03.384213Z",
     "iopub.status.idle": "2022-08-15T15:13:03.399653Z",
     "shell.execute_reply": "2022-08-15T15:13:03.398539Z"
    },
    "papermill": {
     "duration": 0.024725,
     "end_time": "2022-08-15T15:13:03.401712",
     "exception": false,
     "start_time": "2022-08-15T15:13:03.376987",
     "status": "completed"
    },
    "tags": []
   },
   "outputs": [
    {
     "data": {
      "application/javascript": [
       "parent.postMessage({\"jupyterEvent\": \"custom.exercise_interaction\", \"data\": {\"outcomeType\": 1, \"valueTowardsCompletion\": 0.16666666666666666, \"interactionType\": 1, \"questionType\": 1, \"questionId\": \"2_BestRatingPerPrice\", \"learnToolsVersion\": \"0.3.4\", \"failureMessage\": \"\", \"exceptionClass\": \"\", \"trace\": \"\"}}, \"*\")"
      ],
      "text/plain": [
       "<IPython.core.display.Javascript object>"
      ]
     },
     "metadata": {},
     "output_type": "display_data"
    },
    {
     "data": {
      "text/markdown": [
       "<span style=\"color:#33cc33\">Correct</span>"
      ],
      "text/plain": [
       "Correct"
      ]
     },
     "metadata": {},
     "output_type": "display_data"
    }
   ],
   "source": [
    "data = reviews.groupby(\"price\").points.max()\n",
    "best_rating_per_price = data.sort_index()\n",
    "\n",
    "# Check your answer\n",
    "q2.check()"
   ]
  },
  {
   "cell_type": "code",
   "execution_count": 5,
   "id": "a671fe89",
   "metadata": {
    "execution": {
     "iopub.execute_input": "2022-08-15T15:13:03.416791Z",
     "iopub.status.busy": "2022-08-15T15:13:03.416404Z",
     "iopub.status.idle": "2022-08-15T15:13:03.420867Z",
     "shell.execute_reply": "2022-08-15T15:13:03.419649Z"
    },
    "papermill": {
     "duration": 0.015015,
     "end_time": "2022-08-15T15:13:03.423161",
     "exception": false,
     "start_time": "2022-08-15T15:13:03.408146",
     "status": "completed"
    },
    "tags": []
   },
   "outputs": [],
   "source": [
    "#q2.hint()\n",
    "#q2.solution()"
   ]
  },
  {
   "cell_type": "markdown",
   "id": "fab2287c",
   "metadata": {
    "papermill": {
     "duration": 0.006043,
     "end_time": "2022-08-15T15:13:03.435459",
     "exception": false,
     "start_time": "2022-08-15T15:13:03.429416",
     "status": "completed"
    },
    "tags": []
   },
   "source": [
    "## 3.\n",
    "What are the minimum and maximum prices for each `variety` of wine? Create a `DataFrame` whose index is the `variety` category from the dataset and whose values are the `min` and `max` values thereof."
   ]
  },
  {
   "cell_type": "code",
   "execution_count": 6,
   "id": "2bf47399",
   "metadata": {
    "execution": {
     "iopub.execute_input": "2022-08-15T15:13:03.449765Z",
     "iopub.status.busy": "2022-08-15T15:13:03.449381Z",
     "iopub.status.idle": "2022-08-15T15:13:03.473179Z",
     "shell.execute_reply": "2022-08-15T15:13:03.472225Z"
    },
    "papermill": {
     "duration": 0.033894,
     "end_time": "2022-08-15T15:13:03.475651",
     "exception": false,
     "start_time": "2022-08-15T15:13:03.441757",
     "status": "completed"
    },
    "tags": []
   },
   "outputs": [
    {
     "data": {
      "application/javascript": [
       "parent.postMessage({\"jupyterEvent\": \"custom.exercise_interaction\", \"data\": {\"outcomeType\": 1, \"valueTowardsCompletion\": 0.16666666666666666, \"interactionType\": 1, \"questionType\": 1, \"questionId\": \"3_PriceExtremes\", \"learnToolsVersion\": \"0.3.4\", \"failureMessage\": \"\", \"exceptionClass\": \"\", \"trace\": \"\"}}, \"*\")"
      ],
      "text/plain": [
       "<IPython.core.display.Javascript object>"
      ]
     },
     "metadata": {},
     "output_type": "display_data"
    },
    {
     "data": {
      "text/markdown": [
       "<span style=\"color:#33cc33\">Correct</span>"
      ],
      "text/plain": [
       "Correct"
      ]
     },
     "metadata": {},
     "output_type": "display_data"
    }
   ],
   "source": [
    "price_extremes = reviews.groupby(\"variety\").price.agg([min,max])\n",
    "\n",
    "# Check your answer\n",
    "q3.check()"
   ]
  },
  {
   "cell_type": "code",
   "execution_count": 7,
   "id": "50662ae0",
   "metadata": {
    "execution": {
     "iopub.execute_input": "2022-08-15T15:13:03.489959Z",
     "iopub.status.busy": "2022-08-15T15:13:03.489338Z",
     "iopub.status.idle": "2022-08-15T15:13:03.493064Z",
     "shell.execute_reply": "2022-08-15T15:13:03.492348Z"
    },
    "papermill": {
     "duration": 0.013009,
     "end_time": "2022-08-15T15:13:03.494954",
     "exception": false,
     "start_time": "2022-08-15T15:13:03.481945",
     "status": "completed"
    },
    "tags": []
   },
   "outputs": [],
   "source": [
    "#q3.hint()\n",
    "#q3.solution()"
   ]
  },
  {
   "cell_type": "markdown",
   "id": "87bb1800",
   "metadata": {
    "papermill": {
     "duration": 0.005961,
     "end_time": "2022-08-15T15:13:03.508001",
     "exception": false,
     "start_time": "2022-08-15T15:13:03.502040",
     "status": "completed"
    },
    "tags": []
   },
   "source": [
    "## 4.\n",
    "What are the most expensive wine varieties? Create a variable `sorted_varieties` containing a copy of the dataframe from the previous question where varieties are sorted in descending order based on minimum price, then on maximum price (to break ties)."
   ]
  },
  {
   "cell_type": "code",
   "execution_count": 8,
   "id": "04bea77c",
   "metadata": {
    "execution": {
     "iopub.execute_input": "2022-08-15T15:13:03.522600Z",
     "iopub.status.busy": "2022-08-15T15:13:03.521671Z",
     "iopub.status.idle": "2022-08-15T15:13:03.532208Z",
     "shell.execute_reply": "2022-08-15T15:13:03.531228Z"
    },
    "papermill": {
     "duration": 0.020133,
     "end_time": "2022-08-15T15:13:03.534291",
     "exception": false,
     "start_time": "2022-08-15T15:13:03.514158",
     "status": "completed"
    },
    "tags": []
   },
   "outputs": [
    {
     "data": {
      "application/javascript": [
       "parent.postMessage({\"jupyterEvent\": \"custom.exercise_interaction\", \"data\": {\"outcomeType\": 1, \"valueTowardsCompletion\": 0.16666666666666666, \"interactionType\": 1, \"questionType\": 1, \"questionId\": \"4_SortedVarieties\", \"learnToolsVersion\": \"0.3.4\", \"failureMessage\": \"\", \"exceptionClass\": \"\", \"trace\": \"\"}}, \"*\")"
      ],
      "text/plain": [
       "<IPython.core.display.Javascript object>"
      ]
     },
     "metadata": {},
     "output_type": "display_data"
    },
    {
     "data": {
      "text/markdown": [
       "<span style=\"color:#33cc33\">Correct</span>"
      ],
      "text/plain": [
       "Correct"
      ]
     },
     "metadata": {},
     "output_type": "display_data"
    }
   ],
   "source": [
    "sorted_varieties = price_extremes.sort_values(by = [\"min\" , \"max\"] , ascending = False)\n",
    "\n",
    "# Check your answer\n",
    "q4.check()"
   ]
  },
  {
   "cell_type": "code",
   "execution_count": 9,
   "id": "7de04c2d",
   "metadata": {
    "execution": {
     "iopub.execute_input": "2022-08-15T15:13:03.549483Z",
     "iopub.status.busy": "2022-08-15T15:13:03.548922Z",
     "iopub.status.idle": "2022-08-15T15:13:03.555833Z",
     "shell.execute_reply": "2022-08-15T15:13:03.555073Z"
    },
    "papermill": {
     "duration": 0.01702,
     "end_time": "2022-08-15T15:13:03.557964",
     "exception": false,
     "start_time": "2022-08-15T15:13:03.540944",
     "status": "completed"
    },
    "tags": []
   },
   "outputs": [
    {
     "data": {
      "application/javascript": [
       "parent.postMessage({\"jupyterEvent\": \"custom.exercise_interaction\", \"data\": {\"interactionType\": 2, \"questionType\": 1, \"questionId\": \"4_SortedVarieties\", \"learnToolsVersion\": \"0.3.4\", \"valueTowardsCompletion\": 0.0, \"failureMessage\": \"\", \"exceptionClass\": \"\", \"trace\": \"\", \"outcomeType\": 4}}, \"*\")"
      ],
      "text/plain": [
       "<IPython.core.display.Javascript object>"
      ]
     },
     "metadata": {},
     "output_type": "display_data"
    },
    {
     "data": {
      "text/markdown": [
       "<span style=\"color:#3366cc\">Hint:</span> Use `sort_values()`, and provide a list of names to sort by."
      ],
      "text/plain": [
       "Hint: Use `sort_values()`, and provide a list of names to sort by."
      ]
     },
     "metadata": {},
     "output_type": "display_data"
    }
   ],
   "source": [
    "q4.hint()\n",
    "#q4.solution()"
   ]
  },
  {
   "cell_type": "markdown",
   "id": "50e007b5",
   "metadata": {
    "papermill": {
     "duration": 0.006547,
     "end_time": "2022-08-15T15:13:03.571355",
     "exception": false,
     "start_time": "2022-08-15T15:13:03.564808",
     "status": "completed"
    },
    "tags": []
   },
   "source": [
    "## 5.\n",
    "Create a `Series` whose index is reviewers and whose values is the average review score given out by that reviewer. Hint: you will need the `taster_name` and `points` columns."
   ]
  },
  {
   "cell_type": "code",
   "execution_count": 10,
   "id": "dffdcf4c",
   "metadata": {
    "execution": {
     "iopub.execute_input": "2022-08-15T15:13:03.587109Z",
     "iopub.status.busy": "2022-08-15T15:13:03.586421Z",
     "iopub.status.idle": "2022-08-15T15:13:03.606772Z",
     "shell.execute_reply": "2022-08-15T15:13:03.605736Z"
    },
    "papermill": {
     "duration": 0.030592,
     "end_time": "2022-08-15T15:13:03.608822",
     "exception": false,
     "start_time": "2022-08-15T15:13:03.578230",
     "status": "completed"
    },
    "tags": []
   },
   "outputs": [
    {
     "data": {
      "application/javascript": [
       "parent.postMessage({\"jupyterEvent\": \"custom.exercise_interaction\", \"data\": {\"outcomeType\": 1, \"valueTowardsCompletion\": 0.16666666666666666, \"interactionType\": 1, \"questionType\": 1, \"questionId\": \"5_ReviewerMeanRatings\", \"learnToolsVersion\": \"0.3.4\", \"failureMessage\": \"\", \"exceptionClass\": \"\", \"trace\": \"\"}}, \"*\")"
      ],
      "text/plain": [
       "<IPython.core.display.Javascript object>"
      ]
     },
     "metadata": {},
     "output_type": "display_data"
    },
    {
     "data": {
      "text/markdown": [
       "<span style=\"color:#33cc33\">Correct</span>"
      ],
      "text/plain": [
       "Correct"
      ]
     },
     "metadata": {},
     "output_type": "display_data"
    }
   ],
   "source": [
    "reviewer_mean_ratings = reviews.groupby(\"taster_name\").points.mean()\n",
    "\n",
    "# Check your answer\n",
    "q5.check()"
   ]
  },
  {
   "cell_type": "code",
   "execution_count": 11,
   "id": "6e4d77b0",
   "metadata": {
    "execution": {
     "iopub.execute_input": "2022-08-15T15:13:03.624775Z",
     "iopub.status.busy": "2022-08-15T15:13:03.624374Z",
     "iopub.status.idle": "2022-08-15T15:13:03.628133Z",
     "shell.execute_reply": "2022-08-15T15:13:03.627382Z"
    },
    "papermill": {
     "duration": 0.014452,
     "end_time": "2022-08-15T15:13:03.630399",
     "exception": false,
     "start_time": "2022-08-15T15:13:03.615947",
     "status": "completed"
    },
    "tags": []
   },
   "outputs": [],
   "source": [
    "# q5.hint()\n",
    "# q5.solution()"
   ]
  },
  {
   "cell_type": "markdown",
   "id": "40e80bb1",
   "metadata": {
    "papermill": {
     "duration": 0.006797,
     "end_time": "2022-08-15T15:13:03.644403",
     "exception": false,
     "start_time": "2022-08-15T15:13:03.637606",
     "status": "completed"
    },
    "tags": []
   },
   "source": [
    "Are there significant differences in the average scores assigned by the various reviewers? Run the cell below to use the `describe()` method to see a summary of the range of values."
   ]
  },
  {
   "cell_type": "code",
   "execution_count": 12,
   "id": "0ac0483c",
   "metadata": {
    "execution": {
     "iopub.execute_input": "2022-08-15T15:13:03.660896Z",
     "iopub.status.busy": "2022-08-15T15:13:03.659847Z",
     "iopub.status.idle": "2022-08-15T15:13:03.672717Z",
     "shell.execute_reply": "2022-08-15T15:13:03.671603Z"
    },
    "papermill": {
     "duration": 0.023378,
     "end_time": "2022-08-15T15:13:03.674931",
     "exception": false,
     "start_time": "2022-08-15T15:13:03.651553",
     "status": "completed"
    },
    "tags": []
   },
   "outputs": [
    {
     "data": {
      "text/plain": [
       "count    19.000000\n",
       "mean     88.233026\n",
       "std       1.243610\n",
       "min      85.855422\n",
       "25%      87.323501\n",
       "50%      88.536235\n",
       "75%      88.975256\n",
       "max      90.562551\n",
       "Name: points, dtype: float64"
      ]
     },
     "execution_count": 12,
     "metadata": {},
     "output_type": "execute_result"
    }
   ],
   "source": [
    "reviewer_mean_ratings.describe()"
   ]
  },
  {
   "cell_type": "markdown",
   "id": "340d6672",
   "metadata": {
    "papermill": {
     "duration": 0.006866,
     "end_time": "2022-08-15T15:13:03.689045",
     "exception": false,
     "start_time": "2022-08-15T15:13:03.682179",
     "status": "completed"
    },
    "tags": []
   },
   "source": [
    "## 6.\n",
    "What combination of countries and varieties are most common? Create a `Series` whose index is a `MultiIndex`of `{country, variety}` pairs. For example, a pinot noir produced in the US should map to `{\"US\", \"Pinot Noir\"}`. Sort the values in the `Series` in descending order based on wine count."
   ]
  },
  {
   "cell_type": "code",
   "execution_count": 13,
   "id": "dec95eda",
   "metadata": {
    "execution": {
     "iopub.execute_input": "2022-08-15T15:13:03.705358Z",
     "iopub.status.busy": "2022-08-15T15:13:03.704724Z",
     "iopub.status.idle": "2022-08-15T15:13:03.745154Z",
     "shell.execute_reply": "2022-08-15T15:13:03.743969Z"
    },
    "papermill": {
     "duration": 0.051216,
     "end_time": "2022-08-15T15:13:03.747395",
     "exception": false,
     "start_time": "2022-08-15T15:13:03.696179",
     "status": "completed"
    },
    "tags": []
   },
   "outputs": [
    {
     "data": {
      "application/javascript": [
       "parent.postMessage({\"jupyterEvent\": \"custom.exercise_interaction\", \"data\": {\"outcomeType\": 1, \"valueTowardsCompletion\": 0.16666666666666666, \"interactionType\": 1, \"questionType\": 1, \"questionId\": \"6_GroupbyCountryVariety\", \"learnToolsVersion\": \"0.3.4\", \"failureMessage\": \"\", \"exceptionClass\": \"\", \"trace\": \"\"}}, \"*\")"
      ],
      "text/plain": [
       "<IPython.core.display.Javascript object>"
      ]
     },
     "metadata": {},
     "output_type": "display_data"
    },
    {
     "data": {
      "text/markdown": [
       "<span style=\"color:#33cc33\">Correct</span>"
      ],
      "text/plain": [
       "Correct"
      ]
     },
     "metadata": {},
     "output_type": "display_data"
    }
   ],
   "source": [
    "data = reviews.groupby([\"country\" , \"variety\"]).winery.count()\n",
    "country_variety_counts = data.sort_values(ascending=False)\n",
    "\n",
    "# Check your answer\n",
    "q6.check()"
   ]
  },
  {
   "cell_type": "code",
   "execution_count": 14,
   "id": "0496e2bc",
   "metadata": {
    "execution": {
     "iopub.execute_input": "2022-08-15T15:13:03.764677Z",
     "iopub.status.busy": "2022-08-15T15:13:03.764025Z",
     "iopub.status.idle": "2022-08-15T15:13:03.768216Z",
     "shell.execute_reply": "2022-08-15T15:13:03.767464Z"
    },
    "papermill": {
     "duration": 0.015158,
     "end_time": "2022-08-15T15:13:03.770391",
     "exception": false,
     "start_time": "2022-08-15T15:13:03.755233",
     "status": "completed"
    },
    "tags": []
   },
   "outputs": [],
   "source": [
    "#q6.hint()\n",
    "#q6.solution()"
   ]
  },
  {
   "cell_type": "markdown",
   "id": "fb2daa63",
   "metadata": {
    "papermill": {
     "duration": 0.009737,
     "end_time": "2022-08-15T15:13:03.790185",
     "exception": false,
     "start_time": "2022-08-15T15:13:03.780448",
     "status": "completed"
    },
    "tags": []
   },
   "source": [
    "# Keep going\n",
    "\n",
    "Move on to the [**data types and missing data**](https://www.kaggle.com/residentmario/data-types-and-missing-values)."
   ]
  },
  {
   "cell_type": "markdown",
   "id": "c5085bc1",
   "metadata": {
    "papermill": {
     "duration": 0.008017,
     "end_time": "2022-08-15T15:13:03.807289",
     "exception": false,
     "start_time": "2022-08-15T15:13:03.799272",
     "status": "completed"
    },
    "tags": []
   },
   "source": [
    "---\n",
    "\n",
    "\n",
    "\n",
    "\n",
    "*Have questions or comments? Visit the [course discussion forum](https://www.kaggle.com/learn/pandas/discussion) to chat with other learners.*"
   ]
  }
 ],
 "metadata": {
  "kernelspec": {
   "display_name": "Python 3",
   "language": "python",
   "name": "python3"
  },
  "language_info": {
   "codemirror_mode": {
    "name": "ipython",
    "version": 3
   },
   "file_extension": ".py",
   "mimetype": "text/x-python",
   "name": "python",
   "nbconvert_exporter": "python",
   "pygments_lexer": "ipython3",
   "version": "3.7.12"
  },
  "papermill": {
   "default_parameters": {},
   "duration": 12.798005,
   "end_time": "2022-08-15T15:13:04.540741",
   "environment_variables": {},
   "exception": null,
   "input_path": "__notebook__.ipynb",
   "output_path": "__notebook__.ipynb",
   "parameters": {},
   "start_time": "2022-08-15T15:12:51.742736",
   "version": "2.3.4"
  }
 },
 "nbformat": 4,
 "nbformat_minor": 5
}

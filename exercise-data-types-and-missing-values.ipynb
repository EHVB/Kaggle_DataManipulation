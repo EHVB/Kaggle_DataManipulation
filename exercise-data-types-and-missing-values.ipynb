{
 "cells": [
  {
   "cell_type": "markdown",
   "id": "37f5e930",
   "metadata": {
    "papermill": {
     "duration": 0.00624,
     "end_time": "2022-08-15T15:38:25.161057",
     "exception": false,
     "start_time": "2022-08-15T15:38:25.154817",
     "status": "completed"
    },
    "tags": []
   },
   "source": [
    "**This notebook is an exercise in the [Pandas](https://www.kaggle.com/learn/pandas) course.  You can reference the tutorial at [this link](https://www.kaggle.com/residentmario/data-types-and-missing-values).**\n",
    "\n",
    "---\n"
   ]
  },
  {
   "cell_type": "markdown",
   "id": "5df6412c",
   "metadata": {
    "papermill": {
     "duration": 0.00442,
     "end_time": "2022-08-15T15:38:25.170584",
     "exception": false,
     "start_time": "2022-08-15T15:38:25.166164",
     "status": "completed"
    },
    "tags": []
   },
   "source": [
    "# Introduction\n",
    "\n",
    "Run the following cell to load your data and some utility functions."
   ]
  },
  {
   "cell_type": "code",
   "execution_count": 1,
   "id": "186b9efd",
   "metadata": {
    "execution": {
     "iopub.execute_input": "2022-08-15T15:38:25.184203Z",
     "iopub.status.busy": "2022-08-15T15:38:25.182945Z",
     "iopub.status.idle": "2022-08-15T15:38:28.458434Z",
     "shell.execute_reply": "2022-08-15T15:38:28.457068Z"
    },
    "papermill": {
     "duration": 3.287785,
     "end_time": "2022-08-15T15:38:28.463606",
     "exception": false,
     "start_time": "2022-08-15T15:38:25.175821",
     "status": "completed"
    },
    "tags": []
   },
   "outputs": [
    {
     "name": "stdout",
     "output_type": "stream",
     "text": [
      "Setup complete.\n"
     ]
    }
   ],
   "source": [
    "import pandas as pd\n",
    "\n",
    "reviews = pd.read_csv(\"../input/wine-reviews/winemag-data-130k-v2.csv\", index_col=0)\n",
    "\n",
    "from learntools.core import binder; binder.bind(globals())\n",
    "from learntools.pandas.data_types_and_missing_data import *\n",
    "print(\"Setup complete.\")"
   ]
  },
  {
   "cell_type": "markdown",
   "id": "3a51f58d",
   "metadata": {
    "papermill": {
     "duration": 0.004449,
     "end_time": "2022-08-15T15:38:28.473478",
     "exception": false,
     "start_time": "2022-08-15T15:38:28.469029",
     "status": "completed"
    },
    "tags": []
   },
   "source": [
    "# Exercises"
   ]
  },
  {
   "cell_type": "markdown",
   "id": "254500da",
   "metadata": {
    "papermill": {
     "duration": 0.004356,
     "end_time": "2022-08-15T15:38:28.482500",
     "exception": false,
     "start_time": "2022-08-15T15:38:28.478144",
     "status": "completed"
    },
    "tags": []
   },
   "source": [
    "## 1. \n",
    "What is the data type of the `points` column in the dataset?"
   ]
  },
  {
   "cell_type": "code",
   "execution_count": 2,
   "id": "f4024d85",
   "metadata": {
    "execution": {
     "iopub.execute_input": "2022-08-15T15:38:28.494531Z",
     "iopub.status.busy": "2022-08-15T15:38:28.493225Z",
     "iopub.status.idle": "2022-08-15T15:38:28.506868Z",
     "shell.execute_reply": "2022-08-15T15:38:28.505313Z"
    },
    "papermill": {
     "duration": 0.022428,
     "end_time": "2022-08-15T15:38:28.509683",
     "exception": false,
     "start_time": "2022-08-15T15:38:28.487255",
     "status": "completed"
    },
    "tags": []
   },
   "outputs": [
    {
     "data": {
      "application/javascript": [
       "parent.postMessage({\"jupyterEvent\": \"custom.exercise_interaction\", \"data\": {\"outcomeType\": 1, \"valueTowardsCompletion\": 0.25, \"interactionType\": 1, \"questionType\": 1, \"questionId\": \"1_PointsDtype\", \"learnToolsVersion\": \"0.3.4\", \"failureMessage\": \"\", \"exceptionClass\": \"\", \"trace\": \"\"}}, \"*\")"
      ],
      "text/plain": [
       "<IPython.core.display.Javascript object>"
      ]
     },
     "metadata": {},
     "output_type": "display_data"
    },
    {
     "data": {
      "text/markdown": [
       "<span style=\"color:#33cc33\">Correct</span>"
      ],
      "text/plain": [
       "Correct"
      ]
     },
     "metadata": {},
     "output_type": "display_data"
    }
   ],
   "source": [
    "# Your code here\n",
    "dtype = reviews.points.dtype\n",
    "\n",
    "# Check your answer\n",
    "q1.check()"
   ]
  },
  {
   "cell_type": "code",
   "execution_count": 3,
   "id": "deddd183",
   "metadata": {
    "execution": {
     "iopub.execute_input": "2022-08-15T15:38:28.521795Z",
     "iopub.status.busy": "2022-08-15T15:38:28.521334Z",
     "iopub.status.idle": "2022-08-15T15:38:28.525388Z",
     "shell.execute_reply": "2022-08-15T15:38:28.524455Z"
    },
    "papermill": {
     "duration": 0.013009,
     "end_time": "2022-08-15T15:38:28.527656",
     "exception": false,
     "start_time": "2022-08-15T15:38:28.514647",
     "status": "completed"
    },
    "tags": []
   },
   "outputs": [],
   "source": [
    "#q1.hint()\n",
    "#q1.solution()"
   ]
  },
  {
   "cell_type": "markdown",
   "id": "1622160f",
   "metadata": {
    "papermill": {
     "duration": 0.004288,
     "end_time": "2022-08-15T15:38:28.536890",
     "exception": false,
     "start_time": "2022-08-15T15:38:28.532602",
     "status": "completed"
    },
    "tags": []
   },
   "source": [
    "## 2. \n",
    "Create a Series from entries in the `points` column, but convert the entries to strings. Hint: strings are `str` in native Python."
   ]
  },
  {
   "cell_type": "code",
   "execution_count": 4,
   "id": "626eac49",
   "metadata": {
    "execution": {
     "iopub.execute_input": "2022-08-15T15:38:28.548238Z",
     "iopub.status.busy": "2022-08-15T15:38:28.547615Z",
     "iopub.status.idle": "2022-08-15T15:38:28.633395Z",
     "shell.execute_reply": "2022-08-15T15:38:28.632201Z"
    },
    "papermill": {
     "duration": 0.094431,
     "end_time": "2022-08-15T15:38:28.635797",
     "exception": false,
     "start_time": "2022-08-15T15:38:28.541366",
     "status": "completed"
    },
    "tags": []
   },
   "outputs": [
    {
     "data": {
      "application/javascript": [
       "parent.postMessage({\"jupyterEvent\": \"custom.exercise_interaction\", \"data\": {\"outcomeType\": 1, \"valueTowardsCompletion\": 0.25, \"interactionType\": 1, \"questionType\": 1, \"questionId\": \"2_StrPoints\", \"learnToolsVersion\": \"0.3.4\", \"failureMessage\": \"\", \"exceptionClass\": \"\", \"trace\": \"\"}}, \"*\")"
      ],
      "text/plain": [
       "<IPython.core.display.Javascript object>"
      ]
     },
     "metadata": {},
     "output_type": "display_data"
    },
    {
     "data": {
      "text/markdown": [
       "<span style=\"color:#33cc33\">Correct</span>"
      ],
      "text/plain": [
       "Correct"
      ]
     },
     "metadata": {},
     "output_type": "display_data"
    }
   ],
   "source": [
    "point_strings = reviews.points.astype(str)\n",
    "\n",
    "# Check your answer\n",
    "q2.check()"
   ]
  },
  {
   "cell_type": "code",
   "execution_count": 5,
   "id": "888ade30",
   "metadata": {
    "execution": {
     "iopub.execute_input": "2022-08-15T15:38:28.648033Z",
     "iopub.status.busy": "2022-08-15T15:38:28.647562Z",
     "iopub.status.idle": "2022-08-15T15:38:28.653007Z",
     "shell.execute_reply": "2022-08-15T15:38:28.651480Z"
    },
    "papermill": {
     "duration": 0.015003,
     "end_time": "2022-08-15T15:38:28.656016",
     "exception": false,
     "start_time": "2022-08-15T15:38:28.641013",
     "status": "completed"
    },
    "tags": []
   },
   "outputs": [],
   "source": [
    "#q2.hint()\n",
    "#q2.solution()"
   ]
  },
  {
   "cell_type": "markdown",
   "id": "fd5a0f2d",
   "metadata": {
    "papermill": {
     "duration": 0.004585,
     "end_time": "2022-08-15T15:38:28.665518",
     "exception": false,
     "start_time": "2022-08-15T15:38:28.660933",
     "status": "completed"
    },
    "tags": []
   },
   "source": [
    "## 3.\n",
    "Sometimes the price column is null. How many reviews in the dataset are missing a price?"
   ]
  },
  {
   "cell_type": "code",
   "execution_count": 6,
   "id": "9f0e713c",
   "metadata": {
    "execution": {
     "iopub.execute_input": "2022-08-15T15:38:28.677916Z",
     "iopub.status.busy": "2022-08-15T15:38:28.677047Z",
     "iopub.status.idle": "2022-08-15T15:38:28.687680Z",
     "shell.execute_reply": "2022-08-15T15:38:28.686700Z"
    },
    "papermill": {
     "duration": 0.019389,
     "end_time": "2022-08-15T15:38:28.689787",
     "exception": false,
     "start_time": "2022-08-15T15:38:28.670398",
     "status": "completed"
    },
    "tags": []
   },
   "outputs": [
    {
     "data": {
      "application/javascript": [
       "parent.postMessage({\"jupyterEvent\": \"custom.exercise_interaction\", \"data\": {\"outcomeType\": 1, \"valueTowardsCompletion\": 0.25, \"interactionType\": 1, \"questionType\": 1, \"questionId\": \"3_CountMissingPrices\", \"learnToolsVersion\": \"0.3.4\", \"failureMessage\": \"\", \"exceptionClass\": \"\", \"trace\": \"\"}}, \"*\")"
      ],
      "text/plain": [
       "<IPython.core.display.Javascript object>"
      ]
     },
     "metadata": {},
     "output_type": "display_data"
    },
    {
     "data": {
      "text/markdown": [
       "<span style=\"color:#33cc33\">Correct</span>"
      ],
      "text/plain": [
       "Correct"
      ]
     },
     "metadata": {},
     "output_type": "display_data"
    }
   ],
   "source": [
    "n_missing_prices = reviews.price.isnull().sum()\n",
    "\n",
    "# Check your answer\n",
    "q3.check()"
   ]
  },
  {
   "cell_type": "code",
   "execution_count": 7,
   "id": "1070a13a",
   "metadata": {
    "execution": {
     "iopub.execute_input": "2022-08-15T15:38:28.703157Z",
     "iopub.status.busy": "2022-08-15T15:38:28.702384Z",
     "iopub.status.idle": "2022-08-15T15:38:28.717771Z",
     "shell.execute_reply": "2022-08-15T15:38:28.716364Z"
    },
    "papermill": {
     "duration": 0.02531,
     "end_time": "2022-08-15T15:38:28.720529",
     "exception": false,
     "start_time": "2022-08-15T15:38:28.695219",
     "status": "completed"
    },
    "tags": []
   },
   "outputs": [
    {
     "data": {
      "application/javascript": [
       "parent.postMessage({\"jupyterEvent\": \"custom.exercise_interaction\", \"data\": {\"interactionType\": 2, \"questionType\": 1, \"questionId\": \"3_CountMissingPrices\", \"learnToolsVersion\": \"0.3.4\", \"valueTowardsCompletion\": 0.0, \"failureMessage\": \"\", \"exceptionClass\": \"\", \"trace\": \"\", \"outcomeType\": 4}}, \"*\")"
      ],
      "text/plain": [
       "<IPython.core.display.Javascript object>"
      ]
     },
     "metadata": {},
     "output_type": "display_data"
    },
    {
     "data": {
      "text/markdown": [
       "<span style=\"color:#3366cc\">Hint:</span> Use `pd.isnull()`."
      ],
      "text/plain": [
       "Hint: Use `pd.isnull()`."
      ]
     },
     "metadata": {},
     "output_type": "display_data"
    },
    {
     "data": {
      "application/javascript": [
       "parent.postMessage({\"jupyterEvent\": \"custom.exercise_interaction\", \"data\": {\"interactionType\": 3, \"questionType\": 1, \"questionId\": \"3_CountMissingPrices\", \"learnToolsVersion\": \"0.3.4\", \"valueTowardsCompletion\": 0.0, \"failureMessage\": \"\", \"exceptionClass\": \"\", \"trace\": \"\", \"outcomeType\": 4}}, \"*\")"
      ],
      "text/plain": [
       "<IPython.core.display.Javascript object>"
      ]
     },
     "metadata": {},
     "output_type": "display_data"
    },
    {
     "data": {
      "text/markdown": [
       "<span style=\"color:#33cc99\">Solution:</span> \n",
       "```python\n",
       "missing_price_reviews = reviews[reviews.price.isnull()]\n",
       "n_missing_prices = len(missing_price_reviews)\n",
       "# Cute alternative solution: if we sum a boolean series, True is treated as 1 and False as 0\n",
       "n_missing_prices = reviews.price.isnull().sum()\n",
       "# or equivalently:\n",
       "n_missing_prices = pd.isnull(reviews.price).sum()\n",
       "\n",
       "```"
      ],
      "text/plain": [
       "Solution: \n",
       "```python\n",
       "missing_price_reviews = reviews[reviews.price.isnull()]\n",
       "n_missing_prices = len(missing_price_reviews)\n",
       "# Cute alternative solution: if we sum a boolean series, True is treated as 1 and False as 0\n",
       "n_missing_prices = reviews.price.isnull().sum()\n",
       "# or equivalently:\n",
       "n_missing_prices = pd.isnull(reviews.price).sum()\n",
       "\n",
       "```"
      ]
     },
     "metadata": {},
     "output_type": "display_data"
    }
   ],
   "source": [
    "q3.hint()\n",
    "q3.solution()"
   ]
  },
  {
   "cell_type": "markdown",
   "id": "3efe406a",
   "metadata": {
    "papermill": {
     "duration": 0.005232,
     "end_time": "2022-08-15T15:38:28.731406",
     "exception": false,
     "start_time": "2022-08-15T15:38:28.726174",
     "status": "completed"
    },
    "tags": []
   },
   "source": [
    "## 4.\n",
    "What are the most common wine-producing regions? Create a Series counting the number of times each value occurs in the `region_1` field. This field is often missing data, so replace missing values with `Unknown`. Sort in descending order.  Your output should look something like this:\n",
    "\n",
    "```\n",
    "Unknown                    21247\n",
    "Napa Valley                 4480\n",
    "                           ...  \n",
    "Bardolino Superiore            1\n",
    "Primitivo del Tarantino        1\n",
    "Name: region_1, Length: 1230, dtype: int64\n",
    "```"
   ]
  },
  {
   "cell_type": "code",
   "execution_count": 8,
   "id": "ec632e9e",
   "metadata": {
    "execution": {
     "iopub.execute_input": "2022-08-15T15:38:28.745229Z",
     "iopub.status.busy": "2022-08-15T15:38:28.744042Z",
     "iopub.status.idle": "2022-08-15T15:38:28.789235Z",
     "shell.execute_reply": "2022-08-15T15:38:28.788413Z"
    },
    "papermill": {
     "duration": 0.054532,
     "end_time": "2022-08-15T15:38:28.791384",
     "exception": false,
     "start_time": "2022-08-15T15:38:28.736852",
     "status": "completed"
    },
    "tags": []
   },
   "outputs": [
    {
     "data": {
      "application/javascript": [
       "parent.postMessage({\"jupyterEvent\": \"custom.exercise_interaction\", \"data\": {\"outcomeType\": 1, \"valueTowardsCompletion\": 0.25, \"interactionType\": 1, \"questionType\": 2, \"questionId\": \"4_ReviewsPerRegion\", \"learnToolsVersion\": \"0.3.4\", \"failureMessage\": \"\", \"exceptionClass\": \"\", \"trace\": \"\"}}, \"*\")"
      ],
      "text/plain": [
       "<IPython.core.display.Javascript object>"
      ]
     },
     "metadata": {},
     "output_type": "display_data"
    },
    {
     "data": {
      "text/markdown": [
       "<span style=\"color:#33cc33\">Correct</span>"
      ],
      "text/plain": [
       "Correct"
      ]
     },
     "metadata": {},
     "output_type": "display_data"
    }
   ],
   "source": [
    "reviews_per_region = reviews.region_1.fillna('Unknown').value_counts().sort_values(ascending=False)\n",
    "\n",
    "# Check your answer\n",
    "q4.check()"
   ]
  },
  {
   "cell_type": "code",
   "execution_count": 9,
   "id": "f989dc64",
   "metadata": {
    "execution": {
     "iopub.execute_input": "2022-08-15T15:38:28.806055Z",
     "iopub.status.busy": "2022-08-15T15:38:28.805273Z",
     "iopub.status.idle": "2022-08-15T15:38:28.819403Z",
     "shell.execute_reply": "2022-08-15T15:38:28.818147Z"
    },
    "papermill": {
     "duration": 0.024136,
     "end_time": "2022-08-15T15:38:28.821964",
     "exception": false,
     "start_time": "2022-08-15T15:38:28.797828",
     "status": "completed"
    },
    "tags": []
   },
   "outputs": [
    {
     "data": {
      "application/javascript": [
       "parent.postMessage({\"jupyterEvent\": \"custom.exercise_interaction\", \"data\": {\"interactionType\": 2, \"questionType\": 2, \"questionId\": \"4_ReviewsPerRegion\", \"learnToolsVersion\": \"0.3.4\", \"valueTowardsCompletion\": 0.0, \"failureMessage\": \"\", \"exceptionClass\": \"\", \"trace\": \"\", \"outcomeType\": 4}}, \"*\")"
      ],
      "text/plain": [
       "<IPython.core.display.Javascript object>"
      ]
     },
     "metadata": {},
     "output_type": "display_data"
    },
    {
     "data": {
      "text/markdown": [
       "<span style=\"color:#3366cc\">Hint:</span> Use `fillna()`, `value_counts()`, and `sort_values()`."
      ],
      "text/plain": [
       "Hint: Use `fillna()`, `value_counts()`, and `sort_values()`."
      ]
     },
     "metadata": {},
     "output_type": "display_data"
    },
    {
     "data": {
      "application/javascript": [
       "parent.postMessage({\"jupyterEvent\": \"custom.exercise_interaction\", \"data\": {\"interactionType\": 3, \"questionType\": 2, \"questionId\": \"4_ReviewsPerRegion\", \"learnToolsVersion\": \"0.3.4\", \"valueTowardsCompletion\": 0.0, \"failureMessage\": \"\", \"exceptionClass\": \"\", \"trace\": \"\", \"outcomeType\": 4}}, \"*\")"
      ],
      "text/plain": [
       "<IPython.core.display.Javascript object>"
      ]
     },
     "metadata": {},
     "output_type": "display_data"
    },
    {
     "data": {
      "text/markdown": [
       "<span style=\"color:#33cc99\">Solution:</span> \n",
       "```python\n",
       "reviews_per_region = reviews.region_1.fillna('Unknown').value_counts().sort_values(ascending=False)\n",
       "```"
      ],
      "text/plain": [
       "Solution: \n",
       "```python\n",
       "reviews_per_region = reviews.region_1.fillna('Unknown').value_counts().sort_values(ascending=False)\n",
       "```"
      ]
     },
     "metadata": {},
     "output_type": "display_data"
    }
   ],
   "source": [
    "q4.hint()\n",
    "q4.solution()"
   ]
  },
  {
   "cell_type": "markdown",
   "id": "8cb34b74",
   "metadata": {
    "papermill": {
     "duration": 0.006199,
     "end_time": "2022-08-15T15:38:28.835049",
     "exception": false,
     "start_time": "2022-08-15T15:38:28.828850",
     "status": "completed"
    },
    "tags": []
   },
   "source": [
    "# Keep going\n",
    "\n",
    "Move on to **[renaming and combining](https://www.kaggle.com/residentmario/renaming-and-combining)**."
   ]
  },
  {
   "cell_type": "markdown",
   "id": "ac34f040",
   "metadata": {
    "papermill": {
     "duration": 0.006112,
     "end_time": "2022-08-15T15:38:28.847890",
     "exception": false,
     "start_time": "2022-08-15T15:38:28.841778",
     "status": "completed"
    },
    "tags": []
   },
   "source": [
    "---\n",
    "\n",
    "\n",
    "\n",
    "\n",
    "*Have questions or comments? Visit the [course discussion forum](https://www.kaggle.com/learn/pandas/discussion) to chat with other learners.*"
   ]
  }
 ],
 "metadata": {
  "kernelspec": {
   "display_name": "Python 3",
   "language": "python",
   "name": "python3"
  },
  "language_info": {
   "codemirror_mode": {
    "name": "ipython",
    "version": 3
   },
   "file_extension": ".py",
   "mimetype": "text/x-python",
   "name": "python",
   "nbconvert_exporter": "python",
   "pygments_lexer": "ipython3",
   "version": "3.7.12"
  },
  "papermill": {
   "default_parameters": {},
   "duration": 13.903076,
   "end_time": "2022-08-15T15:38:29.779212",
   "environment_variables": {},
   "exception": null,
   "input_path": "__notebook__.ipynb",
   "output_path": "__notebook__.ipynb",
   "parameters": {},
   "start_time": "2022-08-15T15:38:15.876136",
   "version": "2.3.4"
  }
 },
 "nbformat": 4,
 "nbformat_minor": 5
}
